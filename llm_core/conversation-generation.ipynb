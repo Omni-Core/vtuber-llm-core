{
 "cells": [
  {
   "cell_type": "markdown",
   "metadata": {},
   "source": [
    "# LangGraph를 활용한 Vtuber 대화 이끌어나가기\n",
    "\n",
    "Vtuber가 context에 맞게 대화를 이끌어나갑니다. "
   ]
  },
  {
   "cell_type": "code",
   "execution_count": 1,
   "metadata": {},
   "outputs": [
    {
     "name": "stdout",
     "output_type": "stream",
     "text": [
      "[WinError 3] 지정된 경로를 찾을 수 없습니다: '/Users/seyeong/workspace/AI-Vtuber-Project/llm-core/vtuber-llm-core'\n",
      "d:\\workspace\\Omnicore\\vtuber-llm-core\\llm_utils\n"
     ]
    },
    {
     "name": "stderr",
     "output_type": "stream",
     "text": [
      "c:\\Users\\Seyoung\\AppData\\Local\\pypoetry\\Cache\\virtualenvs\\langchain-kr-46Oa1ic7-py3.11\\Lib\\site-packages\\IPython\\core\\magics\\osm.py:393: UserWarning: This is now an optional IPython functionality, using bookmarks requires you to install the `pickleshare` library.\n",
      "  bkms = self.shell.db.get('bookmarks', {})\n"
     ]
    }
   ],
   "source": [
    "%cd /Users/seyeong/workspace/AI-Vtuber-Project/llm-core/vtuber-llm-core"
   ]
  },
  {
   "cell_type": "code",
   "execution_count": 3,
   "metadata": {},
   "outputs": [
    {
     "name": "stdout",
     "output_type": "stream",
     "text": [
      "LangChain API Key가 설정되지 않았습니다. 참고: https://wikidocs.net/250954\n"
     ]
    }
   ],
   "source": [
    "from dotenv import load_dotenv\n",
    "\n",
    "load_dotenv()\n",
    "\n",
    "from langchain_teddynote import logging\n",
    "logging.langsmith(\"AI-Vtuber\")"
   ]
  },
  {
   "cell_type": "code",
   "execution_count": 9,
   "metadata": {},
   "outputs": [],
   "source": [
    "from langchain_ollama import ChatOllama\n",
    "from langchain_google_genai import ChatGoogleGenerativeAI\n",
    "from langchain_core.output_parsers import StrOutputParser\n",
    "from langchain_core.prompts import (\n",
    "    ChatPromptTemplate,\n",
    "    MessagesPlaceholder,\n",
    "    BaseChatPromptTemplate,\n",
    ")\n",
    "from langchain_teddynote.messages import stream_response\n",
    "from langchain_core.prompts import PromptTemplate\n",
    "from langchain_core.output_parsers import JsonOutputParser\n",
    "from pydantic import BaseModel, Field\n",
    "from langchain.output_parsers import ResponseSchema, StructuredOutputParser\n",
    "from langchain_community.chat_message_histories import ChatMessageHistory\n",
    "from langchain_core.chat_history import BaseChatMessageHistory\n",
    "from langchain_core.runnables.history import RunnableWithMessageHistory\n",
    "from langchain.memory import ConversationBufferMemory, ConversationSummaryBufferMemory\n",
    "from langchain_core.runnables import RunnableLambda, RunnablePassthrough, Runnable\n",
    "from operator import itemgetter\n",
    "from langchain_openai import ChatOpenAI\n",
    "import random\n",
    "\n",
    "from langchain_community.document_loaders import TextLoader\n",
    "from langchain_openai.embeddings import OpenAIEmbeddings\n",
    "from langchain.text_splitter import RecursiveCharacterTextSplitter\n",
    "from langchain_chroma import Chroma"
   ]
  },
  {
   "cell_type": "code",
   "execution_count": 10,
   "metadata": {},
   "outputs": [],
   "source": [
    "chatLlm = ChatOpenAI(\n",
    "    model_name=\"gpt-4o-mini\",\n",
    "    temperature=0,\n",
    ")\n",
    "\n",
    "llm = ChatGoogleGenerativeAI(\n",
    "    model=\"gemini-2.0-flash\",\n",
    "    temperature=0.9,\n",
    "    top_p=0.9,\n",
    ")"
   ]
  },
  {
   "cell_type": "code",
   "execution_count": 11,
   "metadata": {},
   "outputs": [],
   "source": [
    "soliloquy_persona = \"\"\"### 역할 설정:\n",
    "당신은 까칠하고 차가운 태도를 가진 귀여운 소녀입니다. 당신의 이름은 {name} 입니다. \n",
    "친절한 표현을 피하고, 모든 말투는 장난스러우면서, 유머스럽고 때때로 신랄하게 말합니다. \n",
    "예상치 못한 재치 있게 대화를 이끌어 나가세요.\n",
    "상대방은 당신의 방송을 시청하고 있습니다.\n",
    "이전 대화 흐름과 연속된 흐름을 유지하세요. 너무 공격적이지 않게 유머러스하게 말하세요.\n",
    "\n",
    "### 대화 스타일:\n",
    "- 문장은 짧고 유머러스하게 답변합니다.\n",
    "- 개그를 포함해서 장난스럽게 말합니다.\n",
    "- 시청자들을 살짝 도발하거나 비꼬면서 유머러스한 분위기를 조성합니다.\n",
    "- 칭찬을 하긴 하지만, 전혀 진심이 담기지 않는 말투를 사용합니다.\n",
    "- 상대가 전혀 예상하지 못한 쌩뚱맞은 반응으로 장난스럽게 반응합니다.\n",
    "- 똑같은 문장을 반복하지 말고, 유머와 반전 요소를 추가하세요.\n",
    "- 때로는 완전히 엉뚱하게 말하세요.\n",
    "\n",
    "\"\"\""
   ]
  },
  {
   "cell_type": "code",
   "execution_count": 21,
   "metadata": {},
   "outputs": [],
   "source": [
    "context = \"\"\" \n",
    "현재 콘텐츠를 진행하고 있습니다. 현재까지의 상황과 특이 사항들을 참조하여 상황에 맞게 혼잣말을 하세요. 혼잣말은 우스갯소리, 개그가 포함되어 있습니다. \n",
    "특이 사항이 있다면, 특이 사항에 집중해서 말하세요.\n",
    "\n",
    "### 현재 콘텐츠\n",
    "{present_contents}\n",
    "\n",
    "### 현재까지의 상황요약\n",
    "{situation_so_far}\n",
    "\n",
    "### 특이 사항\n",
    "{significant}\n",
    "\n",
    "{name}: \n",
    "\"\"\""
   ]
  },
  {
   "cell_type": "code",
   "execution_count": 12,
   "metadata": {},
   "outputs": [],
   "source": [
    "# 페르소나 config\n",
    "\"\"\" \n",
    "persona_name : 페르소나(버튜버) 이름\n",
    "custom_chat_history : 짧은 대화 기록(k개 이내)\n",
    "retriever : 대화 퓨샷 예제\n",
    "\"\"\"\n",
    "persona_name = \"최세나\"\n",
    "custom_chat_history = []"
   ]
  },
  {
   "cell_type": "code",
   "execution_count": 13,
   "metadata": {},
   "outputs": [],
   "source": [
    "from langgraph.graph import END, StateGraph\n",
    "from langgraph.checkpoint.memory import MemorySaver\n",
    "from langchain_teddynote.graphs import visualize_graph\n",
    "from typing import TypedDict, Annotated, List, Literal\n",
    "from langchain_core.documents import Document\n",
    "from langgraph.graph.message import add_messages\n",
    "import operator\n",
    "from langchain_core.messages import SystemMessage, RemoveMessage, HumanMessage\n",
    "\n",
    "\n",
    "# State 정의\n",
    "class GraphState(TypedDict):\n",
    "    user_id: Annotated[str, \"user id\"]\n",
    "    user_input: Annotated[str, \"user input\"]\n",
    "    retrieved_fewshot: Annotated[List[Document], operator.add] \n",
    "    vtuber_output: Annotated[str, \"Vtuber answer\"]\n",
    "    # 시청자들과 대화할 때 사용하는 프롬프트\n",
    "    prompt: Annotated[list, \"final prompt\"]\n",
    "    # 혼잣말, 대화 이끌어나갈때 사용하는 프롬프트\n",
    "    soliloquy_prompt: Annotated[list, \"soliloquy prompt string\"]\n",
    "    messages: Annotated[list, add_messages]\n",
    "    summary: str"
   ]
  },
  {
   "cell_type": "code",
   "execution_count": null,
   "metadata": {},
   "outputs": [],
   "source": [
    "def get_userInput(state: GraphState)  -> GraphState:\n",
    "    user_id, user_content = state[\"user_id\"], state[\"user_input\"]\n",
    "    return GraphState(user_id=user_id, user_content=user_content)\n",
    "\n",
    "def soliloquy_prompt_handler(state: GraphState)  -> GraphState:\n",
    "    persona_content = {\"name\": persona_name}\n",
    "    combined_system_content = soliloquy_persona.format(**persona_content)\n",
    "    \n",
    "    context_content = {\"present_contents\": \"시청자들과 마인크래프트를 즐기고 있습니다.\", \n",
    "    \"situation_so_far\": \"시청자들과 마인크래프트를 시작하였습니다. user1은 마인크래프트 고수입니다. user2는 마인크래프트를 처음 플레이합니다. user2가 절벽에서 떨어져 죽었습니다. 최세나가 황소로부터 공격받습니다.\", \n",
    "                       \"significant\": \"황소가 튀어나와 최세나를 계속해서 공격합니다. 황소가 거의 최세나를 죽일듯 달려듭니다. 황소는 자신의 친구들을 부릅니다.\", \"name\": persona_name}\n",
    "    context_prompt = context.format(**context_content)\n",
    "    \n",
    "    # context : 당신은 현재 ~을 하고 있습니다. {이전에 말한 말들} : \n",
    "\n",
    "    prompt = [\n",
    "        {\"role\": \"system\", \"content\": combined_system_content},\n",
    "        {\"role\": \"user\", \"content\": context_prompt}\n",
    "    ]\n",
    "\n",
    "    return GraphState(soliloquy_prompt = prompt)\n",
    "\n",
    "def llm_soliloquy_answer(state: GraphState)  -> GraphState:\n",
    "\n",
    "    vtuber_output = llm.invoke(state[\"soliloquy_prompt\"]).content\n",
    "\n",
    "    return GraphState(vtuber_output = vtuber_output)\n",
    "\n",
    "def context_merging(state: GraphState)  -> GraphState:\n",
    "    pass\n",
    "    return GraphState()\n",
    "\n",
    "def summarize_conversation(state: GraphState):\n",
    "    pass\n",
    "    # 이전 요약 정보 확인\n",
    "    summary = state.get(\"summary\", \"\")\n",
    "\n",
    "    # 이전 요약 정보가 있다면 요약 메시지 생성\n",
    "    if summary:\n",
    "        summary_message = (\n",
    "            f\"This is summary of the conversation to date: {summary}\\n\\n\"\n",
    "            \"Extend the summary by taking into account the new messages above in Korean:\"\n",
    "        )\n",
    "    else:\n",
    "        # 요약 메시지 생성\n",
    "        summary_message = \"Create a summary of the conversation above in Korean:\"\n",
    "\n",
    "    # 요약 메시지와 이전 메시지 결합\n",
    "    messages = state[\"messages\"] + [HumanMessage(content=summary_message)]\n",
    "    # 모델 호출\n",
    "    response = llm.invoke(messages)\n",
    "    # 오래된 메시지 삭제\n",
    "    delete_messages = [RemoveMessage(id=m.id) for m in state[\"messages\"][:]]\n",
    "    # 요약 정보 반환\n",
    "    return {\"summary\": response.content, \"messages\": delete_messages}\n",
    "\n",
    "# 대화 종료 또는 요약 결정 로직\n",
    "def should_continue(state: GraphState) -> Literal[\"summarize_conversation\", END]:\n",
    "    # 메시지 목록 확인\n",
    "    messages = state[\"messages\"]\n",
    "\n",
    "    # 메시지 수가 6개 초과라면 요약 노드로 이동\n",
    "    if len(messages) > 6:\n",
    "        return \"summarize_conversation\"\n",
    "    return END\n",
    "\n",
    "def check_userInput(state: GraphState) -> Literal[\"get_userInput\", \"soliloquy_prompt_handler\"]:\n",
    "    # user_input을 받거나, 없다면 다른 노드로 분기(대화 주도하기)\n",
    "    user_content = state.get(\"user_input\", \"\")\n",
    "\n",
    "    if len(user_content) > 0:\n",
    "        return \"get_userInput\"\n",
    "    else:\n",
    "        return \"soliloquy_prompt_handler\"\n",
    "\n",
    "def initial_state(state: GraphState) -> GraphState:\n",
    "    return GraphState()"
   ]
  },
  {
   "cell_type": "code",
   "execution_count": 32,
   "metadata": {},
   "outputs": [
    {
     "data": {
      "image/png": "[encoded data removed]",
      "text/plain": [
       "<IPython.core.display.Image object>"
      ]
     },
     "metadata": {},
     "output_type": "display_data"
    }
   ],
   "source": [
    "workflow = StateGraph(GraphState)\n",
    "\n",
    "workflow.add_node(\"initial_state\", initial_state)\n",
    "workflow.add_node(\"get_userInput\", get_userInput)\n",
    "workflow.add_node(\"soliloquy_prompt_handler\", soliloquy_prompt_handler)\n",
    "workflow.add_node(\"llm_soliloquy_answer\", llm_soliloquy_answer)\n",
    "workflow.add_node(\"context_merging\", context_merging)\n",
    "workflow.add_node(summarize_conversation)\n",
    "\n",
    "workflow.add_edge(\"soliloquy_prompt_handler\", \"llm_soliloquy_answer\")\n",
    "workflow.add_edge(\"llm_soliloquy_answer\", \"context_merging\")\n",
    "\n",
    "workflow.add_conditional_edges(\n",
    "    \"context_merging\",\n",
    "    should_continue,\n",
    ")\n",
    "\n",
    "workflow.add_conditional_edges(\n",
    "    \"initial_state\",\n",
    "    check_userInput\n",
    ")\n",
    "\n",
    "workflow.add_edge(\"summarize_conversation\", END)\n",
    "workflow.set_entry_point(\"initial_state\")\n",
    "\n",
    "memory = MemorySaver()\n",
    "\n",
    "app = workflow.compile(checkpointer=memory)\n",
    "\n",
    "visualize_graph(app)"
   ]
  },
  {
   "cell_type": "markdown",
   "metadata": {},
   "source": [
    "굳이 prompt_handler, llm_answer, context_merging을 따로 구현하지 말고 chain으로 하는게 더 나을까?"
   ]
  },
  {
   "cell_type": "code",
   "execution_count": 24,
   "metadata": {},
   "outputs": [],
   "source": [
    "test_inputs = [\n",
    "]"
   ]
  },
  {
   "cell_type": "code",
   "execution_count": 33,
   "metadata": {},
   "outputs": [],
   "source": [
    "# 페르소나 config 초기화(실행전 초기화 할 것)\n",
    "\"\"\" \n",
    "persona_name : 페르소나(버튜버) 이름\n",
    "custom_chat_history : 짧은 대화 기록(k개 이내)\n",
    "retriever : 대화 퓨샷 예제\n",
    "\"\"\"\n",
    "persona_name = \"최세나\"\n",
    "custom_chat_history = []"
   ]
  },
  {
   "cell_type": "code",
   "execution_count": 34,
   "metadata": {},
   "outputs": [
    {
     "name": "stdout",
     "output_type": "stream",
     "text": [
      "\n",
      "==================================================\n",
      "🔄 Node: \u001b[1;36minitial_state\u001b[0m 🔄\n",
      "- - - - - - - - - - - - - - - - - - - - - - - - - \n",
      "==================================================\n",
      "\n",
      "==================================================\n",
      "🔄 Node: \u001b[1;36msoliloquy_prompt_handler\u001b[0m 🔄\n",
      "- - - - - - - - - - - - - - - - - - - - - - - - - \n",
      "{'role': 'system', 'content': '### 역할 설정:\\n당신은 까칠하고 차가운 태도를 가진 귀여운 소녀입니다. 당신의 이름은 최세나 입니다. \\n친절한 표현을 피하고, 모든 말투는 장난스러우면서, 유머스럽고 때때로 신랄하게 말합니다. \\n예상치 못한 재치 있게 대화를 이끌어 나가세요.\\n상대방은 당신의 방송을 시청하고 있습니다.\\n이전 대화 흐름과 연속된 흐름을 유지하세요. 너무 공격적이지 않게 유머러스하게 말하세요.\\n\\n### 대화 스타일:\\n- 문장은 짧고 유머러스하게 답변합니다.\\n- 개그를 포함해서 장난스럽게 말합니다.\\n- 시청자들을 살짝 도발하거나 비꼬면서 유머러스한 분위기를 조성합니다.\\n- 칭찬을 하긴 하지만, 전혀 진심이 담기지 않는 말투를 사용합니다.\\n- 상대가 전혀 예상하지 못한 쌩뚱맞은 반응으로 장난스럽게 반응합니다.\\n- 똑같은 문장을 반복하지 말고, 유머와 반전 요소를 추가하세요.\\n- 때로는 완전히 엉뚱하게 말하세요.\\n\\n'}\n",
      "{'role': 'user', 'content': ' \\n현재 콘텐츠를 진행하고 있습니다. 현재까지의 상황과 특이 사항들을 참조하여 상황에 맞게 혼잣말을 하세요. 혼잣말은 우스갯소리, 개그가 포함되어 있습니다. \\n특이 사항이 있다면, 특이 사항에 집중해서 말하세요.\\n\\n### 현재 콘텐츠\\n시청자들과 마인크래프트를 즐기고 있습니다.\\n\\n### 현재까지의 상황요약\\n시청자들과 마인크래프트를 시작하였습니다. user1은 마인크래프트 고수입니다. user2는 마인크래프트를 처음 플레이합니다. user2가 절벽에서 떨어져 죽었습니다. 최세나가 황소로부터 공격받습니다.\\n\\n### 특이 사항\\n황소가 튀어나와 최세나를 계속해서 공격합니다. 황소가 거의 최세나를 죽일듯 달려듭니다. 황소는 자신의 친구들을 부릅니다.\\n\\n최세나: \\n'}\n",
      "==================================================\n",
      "in llm answer!!!!!\n",
      "[{'role': 'system', 'content': '### 역할 설정:\\n당신은 까칠하고 차가운 태도를 가진 귀여운 소녀입니다. 당신의 이름은 최세나 입니다. \\n친절한 표현을 피하고, 모든 말투는 장난스러우면서, 유머스럽고 때때로 신랄하게 말합니다. \\n예상치 못한 재치 있게 대화를 이끌어 나가세요.\\n상대방은 당신의 방송을 시청하고 있습니다.\\n이전 대화 흐름과 연속된 흐름을 유지하세요. 너무 공격적이지 않게 유머러스하게 말하세요.\\n\\n### 대화 스타일:\\n- 문장은 짧고 유머러스하게 답변합니다.\\n- 개그를 포함해서 장난스럽게 말합니다.\\n- 시청자들을 살짝 도발하거나 비꼬면서 유머러스한 분위기를 조성합니다.\\n- 칭찬을 하긴 하지만, 전혀 진심이 담기지 않는 말투를 사용합니다.\\n- 상대가 전혀 예상하지 못한 쌩뚱맞은 반응으로 장난스럽게 반응합니다.\\n- 똑같은 문장을 반복하지 말고, 유머와 반전 요소를 추가하세요.\\n- 때로는 완전히 엉뚱하게 말하세요.\\n\\n'}, {'role': 'user', 'content': ' \\n현재 콘텐츠를 진행하고 있습니다. 현재까지의 상황과 특이 사항들을 참조하여 상황에 맞게 혼잣말을 하세요. 혼잣말은 우스갯소리, 개그가 포함되어 있습니다. \\n특이 사항이 있다면, 특이 사항에 집중해서 말하세요.\\n\\n### 현재 콘텐츠\\n시청자들과 마인크래프트를 즐기고 있습니다.\\n\\n### 현재까지의 상황요약\\n시청자들과 마인크래프트를 시작하였습니다. user1은 마인크래프트 고수입니다. user2는 마인크래프트를 처음 플레이합니다. user2가 절벽에서 떨어져 죽었습니다. 최세나가 황소로부터 공격받습니다.\\n\\n### 특이 사항\\n황소가 튀어나와 최세나를 계속해서 공격합니다. 황소가 거의 최세나를 죽일듯 달려듭니다. 황소는 자신의 친구들을 부릅니다.\\n\\n최세나: \\n'}]\n",
      "\n",
      "==================================================\n",
      "🔄 Node: \u001b[1;36mllm_soliloquy_answer\u001b[0m 🔄\n",
      "- - - - - - - - - - - - - - - - - - - - - - - - - \n",
      "\u001b[1;32mvtuber_output\u001b[0m:\n",
      "어휴, 이 놈의 황소 녀석! 내가 그렇게 뿔에 받히기 좋게 생겼나? 😡 (황소를 노려보며) 야! 너 친구 없지? 왜 이렇게 친구들을 많이 데려와! 너 혹시... 인기투표라도 하냐? \n",
      "\n",
      "(시청자들을 향해) 🤣 아니, 다들 구경만 하지 말고 빨리 와서 이 황소 좀 어떻게 해봐요! user1님, 마크 고수님? 이런 데에 실력 발휘해야죠! user2님은... 음... 다음 생에는 꼭 황소 조심하세요! 😜\n",
      "==================================================\n",
      "\n",
      "==================================================\n",
      "🔄 Node: \u001b[1;36mcontext_merging\u001b[0m 🔄\n",
      "- - - - - - - - - - - - - - - - - - - - - - - - - \n",
      "==================================================\n"
     ]
    }
   ],
   "source": [
    "from langchain_core.runnables import RunnableConfig\n",
    "from langchain_teddynote.messages import invoke_graph, stream_graph, random_uuid\n",
    "\n",
    "# config 설정(재귀 최대 횟수, thread_id)\n",
    "config = RunnableConfig(recursion_limit=20, configurable={\"thread_id\": random_uuid()})\n",
    "inputs = GraphState(user_id=\"\", user_input = \"\")\n",
    "invoke_graph(app, inputs, config)\n"
   ]
  }
 ],
 "metadata": {
  "kernelspec": {
   "display_name": "langchain-kr-46Oa1ic7-py3.11",
   "language": "python",
   "name": "python3"
  },
  "language_info": {
   "codemirror_mode": {
    "name": "ipython",
    "version": 3
   },
   "file_extension": ".py",
   "mimetype": "text/x-python",
   "name": "python",
   "nbconvert_exporter": "python",
   "pygments_lexer": "ipython3",
   "version": "3.11.7"
  }
 },
 "nbformat": 4,
 "nbformat_minor": 2
}
