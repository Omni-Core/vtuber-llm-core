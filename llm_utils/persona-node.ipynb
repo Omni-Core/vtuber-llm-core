{
 "cells": [
  {
   "cell_type": "markdown",
   "metadata": {},
   "source": [
    "# LangGraph를 활용한 user - Vtuber 답변 시스템\n",
    "\n",
    "user_input에 대한 Vtuber 답변 시스템 입니다. \n",
    "user_input은 추후 치지직 api 호출을 통해 큐에 담아오고, 해당 input을 차례대로 아래 GraphState에서 사용합니다."
   ]
  },
  {
   "cell_type": "code",
   "execution_count": 10,
   "metadata": {},
   "outputs": [],
   "source": [
    "from typing import TypedDict, Annotated, List\n",
    "from langchain_core.documents import Document\n",
    "import operator\n",
    "\n",
    "\n",
    "# State 정의\n",
    "class GraphState(TypedDict):\n",
    "    context: Annotated[List[Document], operator.add] \n",
    "    answer: Annotated[List[Document], operator.add]\n",
    "    user_input: Annotated[str, \"user input\"]\n",
    "    prompt: Annotated[list, \"final prompt\"]"
   ]
  },
  {
   "cell_type": "markdown",
   "metadata": {},
   "source": [
    "### 노드 정의"
   ]
  },
  {
   "cell_type": "code",
   "execution_count": 15,
   "metadata": {},
   "outputs": [],
   "source": [
    "def retrieve(state: GraphState) -> GraphState:\n",
    "    # retrieve: 검색\n",
    "    documents = \"검색된 문서\"\n",
    "    return GraphState(context=documents)\n",
    "\n",
    "\n",
    "def llm_answer(state: GraphState) -> GraphState:\n",
    "    # LLM 실행\n",
    "    answer = \"GPT 생성된 답변\"\n",
    "    return GraphState(answer=answer)\n",
    "\n",
    "    \n",
    "def prompt_handler(state: GraphState) -> GraphState:\n",
    "    # 프롬프트 조립\n",
    "\n",
    "    # persona 파라미터들 : 나중에 다른 state에서 받아오는걸로 수정\n",
    "    # persona 정보\n",
    "    persona_content = {\"name\": persona_name, \"searched_sentense\": page_contents}\n",
    "    chat_content = {\"name\": persona_name, \"instruction\": instruction, \"user_input\": user_inputs}\n",
    "    previous_content = {\"summary\": summary, \"conversation_record\" : custom_chat_history}\n",
    "\n",
    "    # persona template에 정보 입력\n",
    "    formatted_persona = persona.format(**persona_content)\n",
    "    formatted_chat = chat.format(**chat_content)\n",
    "    previous_chat = previous_chat.format(**previous_content)\n",
    "\n",
    "    # prompt 구성\n",
    "    combined_system_content = formatted_persona + \"\\n\\n\" + previous_chat\n",
    "    formatted_chat = chat.format(**chat_content)\n",
    "    \n",
    "    prompt = [\n",
    "        {\"role\": \"system\", \"content\": combined_system_content},\n",
    "        {\"role\": \"user\", \"content\": formatted_chat},\n",
    "    ]\n",
    "\n",
    "    return GraphState(prompt=prompt)\n",
    "\n",
    "def streaming_scheduling(state: GraphState) -> GraphState:\n",
    "    # 방송 계획 작성\n",
    "    # 사용 목적: 방송 계획을 작성해 버튜버가 해당 스케줄을 따라 작업을 시행함.\n",
    "    # ex) 방송 시작 -> 콘텐츠(게임) -> 콘텐츠(시청자와 소통)-> 방송 종료\n",
    "    # streaming을 하며 대화를 이끌어나가기 위해서 도중마다 버튜버가 하고 있는 작업과 \n",
    "    # 관련있는 말을 내뱉는다. \n",
    "    plan = \"llm을 이용한 방송계획 작성, 인젝션 가능\"\n",
    "    return GraphState(plan=plan)\n",
    "\n",
    "def get_userInput(state: GraphState) -> GraphState:\n",
    "    # user_input을 받거나, 없다면 다른 노드로 분기(대화 주도하기)\n",
    "    user_input = \"좋은 하루네요!\"\n",
    "    return GraphState(user_input=user_input)\n",
    "\n",
    "def result_merging(state: GraphState) -> GraphState: \n",
    "    # State를 사용하지 않고 llm_answer 노드에서 불러오는 일반 함수로 정의해도 괜찮을 것 같다.\n",
    "    # 버튜버 답변 종합, raw 데이터에 추가(혹은 가공해서 추가)\n",
    "    # 외부에 저장하는 것 만으로 충분할 것 같다.\n",
    "    # 날짜별, 행동(콘텐츠)별로 csv파일에 저장\n",
    "\n",
    "    return GraphState()"
   ]
  },
  {
   "cell_type": "markdown",
   "metadata": {},
   "source": [
    "\n",
    "### prompt 구조 \n",
    "1. persona(system_prompt)\n",
    "2. persona_content(searched_sentense)\n",
    "3. previous_chat\n",
    "4. chat_content(user_input)\n"
   ]
  },
  {
   "cell_type": "markdown",
   "metadata": {},
   "source": [
    "### 그래프 정의"
   ]
  },
  {
   "cell_type": "code",
   "execution_count": 16,
   "metadata": {},
   "outputs": [],
   "source": [
    "from langgraph.graph import END, StateGraph\n",
    "from langgraph.checkpoint.memory import MemorySaver\n",
    "from langchain_teddynote.graphs import visualize_graph"
   ]
  },
  {
   "cell_type": "code",
   "execution_count": 18,
   "metadata": {},
   "outputs": [
    {
     "data": {
      "image/png": "[encoded data removed]",
      "text/plain": [
       "<IPython.core.display.Image object>"
      ]
     },
     "metadata": {},
     "output_type": "display_data"
    }
   ],
   "source": [
    "workflow = StateGraph(GraphState)\n",
    "\n",
    "# 노드 추가\n",
    "workflow.add_node(\"retrieve\", retrieve)\n",
    "workflow.add_node(\"prompt_handler\", prompt_handler)\n",
    "workflow.add_node(\"llm_answer\", llm_answer)\n",
    "workflow.add_node(\"result_merging\", result_merging)\n",
    "\n",
    "# 엣지 추가\n",
    "workflow.add_edge(\"retrieve\", \"prompt_handler\")\n",
    "workflow.add_edge(\"prompt_handler\", \"llm_answer\")\n",
    "workflow.add_edge(\"llm_answer\", \"result_merging\")\n",
    "workflow.add_edge(\"result_merging\", END)\n",
    "\n",
    "# 시작점 설정\n",
    "workflow.set_entry_point(\"retrieve\")\n",
    "\n",
    "# 메모리 설정\n",
    "memory = MemorySaver()\n",
    "\n",
    "app = workflow.compile(checkpointer=memory)\n",
    "\n",
    "visualize_graph(app)"
   ]
  }
 ],
 "metadata": {
  "kernelspec": {
   "display_name": "langchain-kr-H-1k3tU1-py3.11",
   "language": "python",
   "name": "python3"
  },
  "language_info": {
   "codemirror_mode": {
    "name": "ipython",
    "version": 3
   },
   "file_extension": ".py",
   "mimetype": "text/x-python",
   "name": "python",
   "nbconvert_exporter": "python",
   "pygments_lexer": "ipython3",
   "version": "3.11.11"
  }
 },
 "nbformat": 4,
 "nbformat_minor": 2
}
